{
 "cells": [
  {
   "cell_type": "code",
   "execution_count": 1,
   "id": "365c4254-7f91-451f-a258-4f9c0cffb83e",
   "metadata": {},
   "outputs": [],
   "source": [
    "#preprocess ml\n",
    "#train\n",
    "#test"
   ]
  },
  {
   "cell_type": "code",
   "execution_count": 2,
   "id": "d02f0e9f-c0f4-42da-bba0-6e7209773704",
   "metadata": {},
   "outputs": [],
   "source": [
    "import pandas as pd\n",
    "from sklearn.metrics import mean_absolute_error,mean_squared_error,r2_score,accuracy_score,roc_auc_score\n",
    "from sklearn.ensemble import GradientBoostingRegressor,ExtraTreesClassifier #随机森林分类模型\n",
    "import numpy as np\n",
    "import os"
   ]
  },
  {
   "cell_type": "code",
   "execution_count": null,
   "id": "ea3e9bbc-a673-4e82-b54a-dc520f9dd339",
   "metadata": {},
   "outputs": [
    {
     "name": "stdout",
     "output_type": "stream",
     "text": [
      "SC\n",
      "0.16666666666666666 0.006944444444444444 day\n",
      "PG\n",
      "0.16666666666666666 0.006944444444444444 day\n",
      "AU\n",
      "0.16666666666666666 0.006944444444444444 day\n",
      "AG\n",
      "0.16666666666666666 0.006944444444444444 day\n"
     ]
    }
   ],
   "source": [
    "symbol_s = ['SC', 'PG', 'AU', 'AG', 'CU', 'PB', 'NI', 'BC', 'A', 'B', 'M', 'JM', 'J', 'C', 'CS', 'MA', 'PP', 'CU', 'RU', 'Y', 'P', 'AU', 'AG', 'CU', 'AL', 'ZN', 'PB', 'NI', 'SN', 'RB', 'HC', 'BU', 'RU', 'FU', 'SP', 'WR', 'SS', 'SA', 'UR', 'SR', 'CF', 'TA', 'MA', 'FG', 'RS', 'OI', 'AU', 'AG', 'JR', 'SF', 'SM', 'AP', 'CJ', 'CY', 'RR', 'BB', 'FB', 'EB', 'V', 'L', 'PP', 'CS', 'JD', 'BU', 'HC','IC','IH','IF']\n",
    "for symbol in symbol_s:\n",
    "    print(symbol)\n",
    "    m = 10\n",
    "    print(m/60,m/(24*60),'day')\n",
    "    test_size = 0.4\n",
    "    train_size = 1 - test_size\n",
    "    df = []\n",
    "    csv_filename = f\"./{symbol}_1min.csv\"  # Replace with the actual filename\n",
    "    df = pd.read_csv(csv_filename)\n",
    "    df.loc[:, 'open':'hold'] = df.loc[:, 'open':'hold'].apply(pd.to_numeric, errors='coerce')\n",
    "    df = df.dropna()\n",
    "    #df.loc[:,'open':'close'] = df.loc[:,'open': 'close'].astype(float)\n",
    "    # 处理时间间隔\n",
    "    df['datetime'] = pd.to_datetime(df['datetime'])\n",
    "    df[\"(t+1)-(t)\"] = np.nan\n",
    "    time_threshold_window = pd.DateOffset(minutes=m)\n",
    "     ######-----------计算label\n",
    "    for index, row in df.iterrows():\n",
    "        target_time = row['datetime'] + time_threshold_window\n",
    "        result_row = df.loc[df['datetime'] == target_time]\n",
    "        if not result_row.empty:\n",
    "            #print(result_row['close'].iloc[0])\n",
    "            df.loc[index, \"(t+1)-(t)\"] = result_row['close'].iloc[0] - row['close']\n",
    "    df = df.dropna()\n",
    "    #print(df)\n",
    "    df['label'] = 0\n",
    "    # 构建对应表\n",
    "    df = df.dropna()\n",
    "    ##去除异常\n",
    "    df.drop(df[abs(df[\"(t+1)-(t)\"]) > 10000].index, inplace=True)\n",
    "    ##\n",
    "    ################\n",
    "    sigma = np.std(df[\"(t+1)-(t)\"][: int(train_size*len(df))])\n",
    "    mean = np.mean(df[\"(t+1)-(t)\"][: int(train_size*len(df))])\n",
    "    df['label'] = df[\"(t+1)-(t)\"].apply(lambda x: 1 if x > mean + 3 * sigma else (-1 if x < mean - 3 * sigma else 0))\n",
    "    df = df.dropna()\n",
    "    #####================\n",
    "    os.makedirs(f'{symbol}', exist_ok=True)\n",
    "    df.to_csv(f'./{symbol}/{symbol}{m}_ans.csv',mode='w')\n",
    "    #time_threshold\n",
    "\n",
    "\n",
    "    class RF_predict:\n",
    "        def __init__(self, _df):\n",
    "            self.tsData = _df\n",
    "            self.test_data = []\n",
    "        def make_predict(self, size ,test_data):\n",
    "            #node = test_size\n",
    "            node = int(len(self.tsData) *size)\n",
    "            #\n",
    "            #print(self.tsData)\n",
    "            # 构建数据集\n",
    "            train_data = self.tsData[: len(self.tsData) - int(node)]\n",
    "            self.test_data = self.tsData[len(self.tsData) - node : ]\n",
    "            train_X = train_data.loc[:, 'open': 'hold'].values\n",
    "            train_y = train_data['label'].values\n",
    "\n",
    "            test_X = self.test_data.loc[:, 'open': 'hold'].values\n",
    "            test_y = self.test_data['label'].values\n",
    "    \n",
    "            # 进行预测\n",
    "            clf = ExtraTreesClassifier()\n",
    "            clf.fit(train_X, train_y)\n",
    "            print(accuracy_score(train_y, clf.predict(train_X)))\n",
    "            print(accuracy_score(test_y, clf.predict(test_X)),'\\n')\n",
    "            #print(roc_auc_score(test_y,clf.predict(test_X))) # 召回率\n",
    "            print()\n",
    "\n",
    "    # a = RF_predict(df)\n",
    "    # a.make_predict(test_size,[])\n",
    "    # a.test_data"
   ]
  },
  {
   "cell_type": "markdown",
   "id": "0460bb43-1030-42f7-a182-f44ebfa8b3ab",
   "metadata": {},
   "source": [
    "# "
   ]
  },
  {
   "cell_type": "code",
   "execution_count": null,
   "id": "90478a91-e3a2-4ed1-8513-db165be1b7f0",
   "metadata": {},
   "outputs": [],
   "source": [
    "symbol_s = ['SC', 'PG', 'AU', 'AG', 'CU', 'PB', 'NI', 'BC', 'A', 'B', 'M', 'JM', 'J', 'C', 'CS', 'MA', 'PP', 'CU', 'RU', 'Y', 'P', 'AU', 'AG', 'CU', 'AL', 'ZN', 'PB', 'NI', 'SN', 'RB', 'HC', 'BU', 'RU', 'FU', 'SP', 'WR', 'SS', 'SA', 'UR', 'SR', 'CF', 'TA', 'MA', 'FG', 'RS', 'OI', 'AU', 'AG', 'JR', 'SF', 'SM', 'AP', 'CJ', 'CY', 'RR', 'BB', 'FB', 'EB', 'V', 'L', 'PP', 'CS', 'JD', 'BU', 'HC','IC','IH','IF']\n",
    "\n",
    "sigma_map = {}\n",
    "for symbol_ in symbol_s:\n",
    "    for m in range(10,20,10):\n",
    "        print(m/60,m/(24*60))\n",
    "        df = []\n",
    "        csv_filename = f'./{symbol_}/{symbol_}{m}_ans.csv'  # Replace with the actual filename\n",
    "        df = pd.read_csv(csv_filename)\n",
    "        sigma = np.std(df[\"(t+1)-(t)\"])\n",
    "        mean = np.mean(df[\"(t+1)-(t)\"])\n",
    "\n",
    "        sigma_map.append(symbol_s,sigma)\n",
    "        print(sigma)\n",
    "        print(mean)\n",
    "\n",
    "print(sigma_map)"
   ]
  },
  {
   "cell_type": "code",
   "execution_count": null,
   "id": "6286bc41-eb7b-4e5a-a811-6e3c9504fbaa",
   "metadata": {},
   "outputs": [],
   "source": [
    "['SC', 'PG', 'AU', 'AG', 'CU', 'PB', 'NI', 'BC', 'A', 'B', 'M', 'JM', 'J', 'C', 'CS', 'MA', 'PP', 'CU', 'RU', 'Y', 'P', 'AU', 'AG', 'CU', 'AL', 'ZN', 'PB', 'NI', 'SN', 'RB', 'HC', 'BU', 'RU', 'FU', 'SP', 'WR', 'SS', 'SA', 'UR', 'SR', 'CF', 'TA', 'MA', 'FG', 'RS', 'OI', 'AU', 'AG', 'JR', 'SF', 'SM', 'AP', 'CJ', 'CY', 'RR', 'BB', 'FB', 'EB', 'V', 'L', 'PP', 'CS', 'JD', 'BU', 'HC','IC','IH','IF\n",
    "']"
   ]
  },
  {
   "cell_type": "code",
   "execution_count": null,
   "id": "4258a501-cfae-4409-aa4b-87698463f955",
   "metadata": {},
   "outputs": [],
   "source": []
  }
 ],
 "metadata": {
  "kernelspec": {
   "display_name": "Python 3 (ipykernel)",
   "language": "python",
   "name": "python3"
  },
  "language_info": {
   "codemirror_mode": {
    "name": "ipython",
    "version": 3
   },
   "file_extension": ".py",
   "mimetype": "text/x-python",
   "name": "python",
   "nbconvert_exporter": "python",
   "pygments_lexer": "ipython3",
   "version": "3.10.10"
  }
 },
 "nbformat": 4,
 "nbformat_minor": 5
}
